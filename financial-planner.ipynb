{
 "cells": [
  {
   "cell_type": "markdown",
   "metadata": {},
   "source": [
    "# Unit 5 - Financial Planning"
   ]
  },
  {
   "cell_type": "code",
   "execution_count": 78,
   "metadata": {},
   "outputs": [],
   "source": [
    "# Initial imports\n",
    "import os\n",
    "import requests\n",
    "import pandas as pd\n",
    "from dotenv import load_dotenv\n",
    "import alpaca_trade_api as tradeapi\n",
    "from MCForecastTools import MCSimulation\n",
    "import json\n",
    "import numpy as np\n",
    "import hvplot.pandas  # noqa\n",
    "import matplotlib.pyplot as plt\n",
    "import random\n",
    "import holoviews as hv\n",
    "from tqdm import tqdm\n",
    "import investpy\n",
    "\n",
    "%matplotlib inline"
   ]
  },
  {
   "cell_type": "code",
   "execution_count": 79,
   "metadata": {},
   "outputs": [
    {
     "name": "stderr",
     "output_type": "stream",
     "text": [
      "Python-dotenv could not parse statement starting at line 3\n"
     ]
    },
    {
     "data": {
      "text/plain": [
       "True"
      ]
     },
     "execution_count": 79,
     "metadata": {},
     "output_type": "execute_result"
    }
   ],
   "source": [
    "# Load .env enviroment variables\n",
    "load_dotenv(dotenv_path='API.env')"
   ]
  },
  {
   "cell_type": "code",
   "execution_count": 80,
   "metadata": {},
   "outputs": [
    {
     "name": "stdout",
     "output_type": "stream",
     "text": [
      "Alpaca Key type: <class 'str'>\n",
      "Alpaca Secret Key type: <class 'str'>\n"
     ]
    }
   ],
   "source": [
    "# Set Alpaca API key and secret\n",
    "alpaca_api_key = os.getenv(\"ALPACA_API_KEY\")\n",
    "alpaca_secret_key = os.getenv(\"ALPACA_SECRET_KEY\")\n",
    "api = tradeapi.REST(alpaca_api_key,alpaca_secret_key,api_version = \"v2\")\n",
    "# Verify that Alpaca key and secret were correctly loaded\n",
    "print(f\"Alpaca Key type: {type(alpaca_api_key)}\")\n",
    "print(f\"Alpaca Secret Key type: {type(alpaca_secret_key)}\")"
   ]
  },
  {
   "cell_type": "markdown",
   "metadata": {},
   "source": [
    "## Part 1 - Personal Finance Planner"
   ]
  },
  {
   "cell_type": "markdown",
   "metadata": {},
   "source": [
    "### Collect Crypto Prices Using the `requests` Library"
   ]
  },
  {
   "cell_type": "code",
   "execution_count": 81,
   "metadata": {},
   "outputs": [],
   "source": [
    "# Set current amount of crypto assets\n",
    "my_btc = 1.2\n",
    "my_eth = 5.3"
   ]
  },
  {
   "cell_type": "code",
   "execution_count": 82,
   "metadata": {},
   "outputs": [],
   "source": [
    "# Crypto API URLs\n",
    "btc_url = \"https://api.alternative.me/v2/ticker/Bitcoin/?convert=CAD\"\n",
    "eth_url = \"https://api.alternative.me/v2/ticker/Ethereum/?convert=CAD\""
   ]
  },
  {
   "cell_type": "code",
   "execution_count": 83,
   "metadata": {},
   "outputs": [
    {
     "name": "stdout",
     "output_type": "stream",
     "text": [
      "The current value of your 1.2 BTC is $26801.60\n",
      "The current value of your 5.3 ETH is $8913.41\n"
     ]
    }
   ],
   "source": [
    "# Fetch current BTC price\n",
    "# Fetch current BTC price\n",
    "current_btc_price = requests.get(btc_url).json()\n",
    "current_btc_value = current_btc_price['data']['1']['quotes']['CAD']['price']\n",
    "\n",
    "# Fetch current ETH price\n",
    "current_eth_price = requests.get(eth_url).json()\n",
    "current_eth_value = current_eth_price['data']['1027']['quotes']['CAD']['price']\n",
    "\n",
    "# Compute current value of my crpto\n",
    "my_btc_value = current_btc_value * my_btc     \n",
    "my_eth_value = current_eth_value * my_eth    \n",
    "\n",
    "# Print current crypto wallet balance\n",
    "print(f\"The current value of your {my_btc} BTC is ${my_btc_value:0.2f}\")\n",
    "print(f\"The current value of your {my_eth} ETH is ${my_eth_value:0.2f}\")"
   ]
  },
  {
   "cell_type": "markdown",
   "metadata": {},
   "source": [
    "### Collect Investments Data Using Alpaca: `SPY` (stocks) and `AGG` (bonds)"
   ]
  },
  {
   "cell_type": "code",
   "execution_count": 84,
   "metadata": {},
   "outputs": [
    {
     "data": {
      "text/html": [
       "<div>\n",
       "<style scoped>\n",
       "    .dataframe tbody tr th:only-of-type {\n",
       "        vertical-align: middle;\n",
       "    }\n",
       "\n",
       "    .dataframe tbody tr th {\n",
       "        vertical-align: top;\n",
       "    }\n",
       "\n",
       "    .dataframe thead th {\n",
       "        text-align: right;\n",
       "    }\n",
       "</style>\n",
       "<table border=\"1\" class=\"dataframe\">\n",
       "  <thead>\n",
       "    <tr style=\"text-align: right;\">\n",
       "      <th></th>\n",
       "      <th>shares</th>\n",
       "    </tr>\n",
       "  </thead>\n",
       "  <tbody>\n",
       "    <tr>\n",
       "      <th>SPY</th>\n",
       "      <td>50</td>\n",
       "    </tr>\n",
       "    <tr>\n",
       "      <th>AGG</th>\n",
       "      <td>200</td>\n",
       "    </tr>\n",
       "  </tbody>\n",
       "</table>\n",
       "</div>"
      ],
      "text/plain": [
       "     shares\n",
       "SPY      50\n",
       "AGG     200"
      ]
     },
     "execution_count": 84,
     "metadata": {},
     "output_type": "execute_result"
    }
   ],
   "source": [
    "# Set current amount of shares\n",
    "# Current amount of shares\n",
    "shares_data = {\n",
    "    \"shares\": [50, 200]\n",
    "}\n",
    "\n",
    "tickers = [\"SPY\", \"AGG\"]\n",
    "df_shares = pd.DataFrame(shares_data, index=tickers)\n",
    "df_shares"
   ]
  },
  {
   "cell_type": "code",
   "execution_count": 85,
   "metadata": {},
   "outputs": [],
   "source": [
    "# Set Alpaca API key and secret\n",
    "alpaca_api_key = os.getenv(\"ALPACA_API_KEY\")\n",
    "alpaca_secret_key = os.getenv(\"ALPACA_SECRET_KEY\")\n",
    "\n",
    "# Create the Alpaca API object\n",
    "alpaca = tradeapi.REST(\n",
    "    alpaca_api_key,\n",
    "    alpaca_secret_key,\n",
    "    base_url=\"https://paper-api.alpaca.markets\",\n",
    "    api_version=\"v2\")"
   ]
  },
  {
   "cell_type": "code",
   "execution_count": 86,
   "metadata": {},
   "outputs": [
    {
     "data": {
      "text/html": [
       "<div>\n",
       "<style scoped>\n",
       "    .dataframe tbody tr th:only-of-type {\n",
       "        vertical-align: middle;\n",
       "    }\n",
       "\n",
       "    .dataframe tbody tr th {\n",
       "        vertical-align: top;\n",
       "    }\n",
       "\n",
       "    .dataframe thead th {\n",
       "        text-align: right;\n",
       "    }\n",
       "</style>\n",
       "<table border=\"1\" class=\"dataframe\">\n",
       "  <thead>\n",
       "    <tr style=\"text-align: right;\">\n",
       "      <th></th>\n",
       "      <th>open</th>\n",
       "      <th>high</th>\n",
       "      <th>low</th>\n",
       "      <th>close</th>\n",
       "      <th>volume</th>\n",
       "      <th>trade_count</th>\n",
       "      <th>vwap</th>\n",
       "      <th>symbol</th>\n",
       "    </tr>\n",
       "    <tr>\n",
       "      <th>timestamp</th>\n",
       "      <th></th>\n",
       "      <th></th>\n",
       "      <th></th>\n",
       "      <th></th>\n",
       "      <th></th>\n",
       "      <th></th>\n",
       "      <th></th>\n",
       "      <th></th>\n",
       "    </tr>\n",
       "  </thead>\n",
       "  <tbody>\n",
       "    <tr>\n",
       "      <th>2021-03-15 04:00:00+00:00</th>\n",
       "      <td>113.60</td>\n",
       "      <td>114.010</td>\n",
       "      <td>113.60</td>\n",
       "      <td>113.91</td>\n",
       "      <td>5001788</td>\n",
       "      <td>18489</td>\n",
       "      <td>113.913419</td>\n",
       "      <td>AGG</td>\n",
       "    </tr>\n",
       "    <tr>\n",
       "      <th>2021-03-15 04:00:00+00:00</th>\n",
       "      <td>394.33</td>\n",
       "      <td>396.685</td>\n",
       "      <td>392.03</td>\n",
       "      <td>396.48</td>\n",
       "      <td>73592302</td>\n",
       "      <td>442250</td>\n",
       "      <td>394.523028</td>\n",
       "      <td>SPY</td>\n",
       "    </tr>\n",
       "  </tbody>\n",
       "</table>\n",
       "</div>"
      ],
      "text/plain": [
       "                             open     high     low   close    volume  \\\n",
       "timestamp                                                              \n",
       "2021-03-15 04:00:00+00:00  113.60  114.010  113.60  113.91   5001788   \n",
       "2021-03-15 04:00:00+00:00  394.33  396.685  392.03  396.48  73592302   \n",
       "\n",
       "                           trade_count        vwap symbol  \n",
       "timestamp                                                  \n",
       "2021-03-15 04:00:00+00:00        18489  113.913419    AGG  \n",
       "2021-03-15 04:00:00+00:00       442250  394.523028    SPY  "
      ]
     },
     "execution_count": 86,
     "metadata": {},
     "output_type": "execute_result"
    }
   ],
   "source": [
    "# Format current date as ISO format\n",
    "\n",
    "today = pd.Timestamp(\"2021-03-15\", tz=\"America/New_York\").isoformat() \n",
    "\n",
    "# Set the tickers\n",
    "tickers = [\"SPY\",\"AGG\"]\n",
    "\n",
    "# Set timeframe to '1D' for Alpaca API\n",
    "timeframe = \"1D\"\n",
    "\n",
    "# Get current closing prices for SPY and AGG\n",
    "df_portfolio = alpaca.get_bars(\n",
    "    tickers,\n",
    "    timeframe,\n",
    "    start = today,\n",
    "    end = today\n",
    ").df\n",
    "\n",
    "# Preview DataFrame\n",
    "df_portfolio"
   ]
  },
  {
   "cell_type": "code",
   "execution_count": 87,
   "metadata": {},
   "outputs": [],
   "source": [
    "AGG = df_portfolio[df_portfolio['symbol']==\"AGG\"].drop('symbol', axis=1)\n",
    "SPY = df_portfolio[df_portfolio['symbol']==\"SPY\"].drop('symbol', axis=1)"
   ]
  },
  {
   "cell_type": "code",
   "execution_count": 90,
   "metadata": {},
   "outputs": [
    {
     "name": "stdout",
     "output_type": "stream",
     "text": [
      "Current AGG closing price: $113.91\n",
      "Current SPY closing price: $396.48\n"
     ]
    }
   ],
   "source": [
    "# Pick AGG and SPY close prices\n",
    "agg_close_price = df_portfolio[\"close\"][0]  \n",
    "spy_close_price = df_portfolio[\"close\"][1]\n",
    "\n",
    "# Print AGG and SPY close prices\n",
    "print(f\"Current AGG closing price: ${agg_close_price}\")\n",
    "print(f\"Current SPY closing price: ${spy_close_price}\")"
   ]
  },
  {
   "cell_type": "code",
   "execution_count": 91,
   "metadata": {},
   "outputs": [
    {
     "name": "stdout",
     "output_type": "stream",
     "text": [
      "The current value of your 50 SPY shares is $19824.00\n",
      "The current value of your 200 AGG shares is $22782.00\n"
     ]
    }
   ],
   "source": [
    "# Compute the current value of shares\n",
    "my_spy = df_shares.loc[\"SPY\"][\"shares\"]\n",
    "my_agg = df_shares.loc[\"AGG\"][\"shares\"]\n",
    "\n",
    "my_spy_value = spy_close_price * my_spy\n",
    "my_agg_value = agg_close_price * my_agg\n",
    "\n",
    "# Print current value of share\n",
    "print(f\"The current value of your {my_spy} SPY shares is ${my_spy_value:0.2f}\")\n",
    "print(f\"The current value of your {my_agg} AGG shares is ${my_agg_value:0.2f}\")"
   ]
  },
  {
   "cell_type": "markdown",
   "metadata": {},
   "source": [
    "### Savings Health Analysis"
   ]
  },
  {
   "cell_type": "code",
   "execution_count": 92,
   "metadata": {},
   "outputs": [
    {
     "data": {
      "text/html": [
       "<div>\n",
       "<style scoped>\n",
       "    .dataframe tbody tr th:only-of-type {\n",
       "        vertical-align: middle;\n",
       "    }\n",
       "\n",
       "    .dataframe tbody tr th {\n",
       "        vertical-align: top;\n",
       "    }\n",
       "\n",
       "    .dataframe thead th {\n",
       "        text-align: right;\n",
       "    }\n",
       "</style>\n",
       "<table border=\"1\" class=\"dataframe\">\n",
       "  <thead>\n",
       "    <tr style=\"text-align: right;\">\n",
       "      <th></th>\n",
       "      <th>amount</th>\n",
       "    </tr>\n",
       "  </thead>\n",
       "  <tbody>\n",
       "    <tr>\n",
       "      <th>crypto</th>\n",
       "      <td>35715.005838</td>\n",
       "    </tr>\n",
       "    <tr>\n",
       "      <th>shares</th>\n",
       "      <td>42606.000000</td>\n",
       "    </tr>\n",
       "  </tbody>\n",
       "</table>\n",
       "</div>"
      ],
      "text/plain": [
       "              amount\n",
       "crypto  35715.005838\n",
       "shares  42606.000000"
      ]
     },
     "metadata": {},
     "output_type": "display_data"
    }
   ],
   "source": [
    "# Set monthly household income\n",
    "monthly_income = 12000\n",
    "crypto_amount = my_btc_value + my_eth_value \n",
    "shares_amount = my_spy_value + my_agg_value \n",
    "\n",
    "# Create savings DataFrame\n",
    "df_savings = pd.DataFrame({'amount':[crypto_amount,shares_amount]})\n",
    "df_savings.rename(index={0: 'crypto', 1: 'shares'}, inplace=True)\n",
    "\n",
    "\n",
    "# Display savings DataFrame\n",
    "display(df_savings)"
   ]
  },
  {
   "cell_type": "code",
   "execution_count": 93,
   "metadata": {},
   "outputs": [
    {
     "data": {
      "text/plain": [
       "<AxesSubplot:ylabel='amount'>"
      ]
     },
     "execution_count": 93,
     "metadata": {},
     "output_type": "execute_result"
    },
    {
     "data": {
      "image/png": "[encoded data removed]",
      "text/plain": [
       "<Figure size 432x288 with 1 Axes>"
      ]
     },
     "metadata": {},
     "output_type": "display_data"
    }
   ],
   "source": [
    "# Plot savings pie chart\n",
    "labels = 'Crypto', 'Shares'\n",
    "df_savings.plot.pie(y='amount',subplots=False, autopct='%1.1f%%',labels=labels)"
   ]
  },
  {
   "cell_type": "code",
   "execution_count": 95,
   "metadata": {},
   "outputs": [
    {
     "name": "stdout",
     "output_type": "stream",
     "text": [
      "Congratulations you have more than enough money in your investments in case of an emergency\n"
     ]
    }
   ],
   "source": [
    "# Set ideal emergency fund\n",
    "emergency_fund = monthly_income * 3\n",
    "\n",
    "# Calculate total amount of savings\n",
    "total_savings = df_savings[\"amount\"][0] + df_savings[\"amount\"][1]\n",
    "# Validate saving health\n",
    "# Check total savings is more than required emergency funds\n",
    "if total_savings > emergency_fund:\n",
    "    print(f\"Congratulations you have more than enough money in your investments in case of an emergency\")\n",
    "# Check total savings is equal to the required emergency funds\n",
    "elif total_savings == emergency_fund:\n",
    "    print(f\"Congratulations you have reached your financial goal of having enough money in case of emergency\")\n",
    "# Check total savings is less than required emergency funds\n",
    "elif total_savings < emergency_fund:\n",
    "    print(f\"You are ${(round(total_savings-emergency_fund,2)*-1)} away from having enough money in case of emergency\") "
   ]
  },
  {
   "cell_type": "markdown",
   "metadata": {},
   "source": [
    "## Part 2 - Retirement Planning\n",
    "\n",
    "### Monte Carlo Simulation"
   ]
  },
  {
   "cell_type": "code",
   "execution_count": 96,
   "metadata": {},
   "outputs": [],
   "source": [
    "# Set start and end dates of five years back from today.\n",
    "# Sample results may vary from the solution based on the time frame chosen\n",
    "start_date = pd.Timestamp('2016-05-01', tz='America/New_York').isoformat()\n",
    "end_date = pd.Timestamp('2021-05-01', tz='America/New_York').isoformat()"
   ]
  },
  {
   "cell_type": "code",
   "execution_count": 97,
   "metadata": {},
   "outputs": [
    {
     "data": {
      "text/html": [
       "<div>\n",
       "<style scoped>\n",
       "    .dataframe tbody tr th:only-of-type {\n",
       "        vertical-align: middle;\n",
       "    }\n",
       "\n",
       "    .dataframe tbody tr th {\n",
       "        vertical-align: top;\n",
       "    }\n",
       "\n",
       "    .dataframe thead th {\n",
       "        text-align: right;\n",
       "    }\n",
       "</style>\n",
       "<table border=\"1\" class=\"dataframe\">\n",
       "  <thead>\n",
       "    <tr style=\"text-align: right;\">\n",
       "      <th></th>\n",
       "      <th>open</th>\n",
       "      <th>high</th>\n",
       "      <th>low</th>\n",
       "      <th>close</th>\n",
       "      <th>volume</th>\n",
       "      <th>trade_count</th>\n",
       "      <th>vwap</th>\n",
       "      <th>symbol</th>\n",
       "    </tr>\n",
       "    <tr>\n",
       "      <th>timestamp</th>\n",
       "      <th></th>\n",
       "      <th></th>\n",
       "      <th></th>\n",
       "      <th></th>\n",
       "      <th></th>\n",
       "      <th></th>\n",
       "      <th></th>\n",
       "      <th></th>\n",
       "    </tr>\n",
       "  </thead>\n",
       "  <tbody>\n",
       "    <tr>\n",
       "      <th>2016-05-02 04:00:00+00:00</th>\n",
       "      <td>110.74</td>\n",
       "      <td>110.7400</td>\n",
       "      <td>110.5200</td>\n",
       "      <td>110.605</td>\n",
       "      <td>3553939</td>\n",
       "      <td>15119</td>\n",
       "      <td>110.627199</td>\n",
       "      <td>AGG</td>\n",
       "    </tr>\n",
       "    <tr>\n",
       "      <th>2016-05-03 04:00:00+00:00</th>\n",
       "      <td>110.89</td>\n",
       "      <td>110.9450</td>\n",
       "      <td>110.7500</td>\n",
       "      <td>110.810</td>\n",
       "      <td>3044940</td>\n",
       "      <td>15662</td>\n",
       "      <td>110.865995</td>\n",
       "      <td>AGG</td>\n",
       "    </tr>\n",
       "    <tr>\n",
       "      <th>2016-05-04 04:00:00+00:00</th>\n",
       "      <td>110.91</td>\n",
       "      <td>110.9315</td>\n",
       "      <td>110.7595</td>\n",
       "      <td>110.860</td>\n",
       "      <td>2920608</td>\n",
       "      <td>13982</td>\n",
       "      <td>110.879063</td>\n",
       "      <td>AGG</td>\n",
       "    </tr>\n",
       "    <tr>\n",
       "      <th>2016-05-05 04:00:00+00:00</th>\n",
       "      <td>110.92</td>\n",
       "      <td>111.1600</td>\n",
       "      <td>110.8010</td>\n",
       "      <td>111.140</td>\n",
       "      <td>3008142</td>\n",
       "      <td>15707</td>\n",
       "      <td>111.028363</td>\n",
       "      <td>AGG</td>\n",
       "    </tr>\n",
       "    <tr>\n",
       "      <th>2016-05-06 04:00:00+00:00</th>\n",
       "      <td>111.12</td>\n",
       "      <td>111.1200</td>\n",
       "      <td>110.9700</td>\n",
       "      <td>110.970</td>\n",
       "      <td>2718710</td>\n",
       "      <td>12697</td>\n",
       "      <td>111.031967</td>\n",
       "      <td>AGG</td>\n",
       "    </tr>\n",
       "    <tr>\n",
       "      <th>...</th>\n",
       "      <td>...</td>\n",
       "      <td>...</td>\n",
       "      <td>...</td>\n",
       "      <td>...</td>\n",
       "      <td>...</td>\n",
       "      <td>...</td>\n",
       "      <td>...</td>\n",
       "      <td>...</td>\n",
       "    </tr>\n",
       "    <tr>\n",
       "      <th>2020-04-15 04:00:00+00:00</th>\n",
       "      <td>117.03</td>\n",
       "      <td>117.3050</td>\n",
       "      <td>116.7100</td>\n",
       "      <td>117.240</td>\n",
       "      <td>4367410</td>\n",
       "      <td>19620</td>\n",
       "      <td>117.144915</td>\n",
       "      <td>AGG</td>\n",
       "    </tr>\n",
       "    <tr>\n",
       "      <th>2020-04-16 04:00:00+00:00</th>\n",
       "      <td>117.19</td>\n",
       "      <td>117.5250</td>\n",
       "      <td>117.1900</td>\n",
       "      <td>117.390</td>\n",
       "      <td>4744716</td>\n",
       "      <td>16906</td>\n",
       "      <td>117.399687</td>\n",
       "      <td>AGG</td>\n",
       "    </tr>\n",
       "    <tr>\n",
       "      <th>2020-04-17 04:00:00+00:00</th>\n",
       "      <td>117.52</td>\n",
       "      <td>117.6200</td>\n",
       "      <td>117.0350</td>\n",
       "      <td>117.250</td>\n",
       "      <td>4949824</td>\n",
       "      <td>25621</td>\n",
       "      <td>117.358347</td>\n",
       "      <td>AGG</td>\n",
       "    </tr>\n",
       "    <tr>\n",
       "      <th>2020-04-20 04:00:00+00:00</th>\n",
       "      <td>117.15</td>\n",
       "      <td>117.2800</td>\n",
       "      <td>116.9400</td>\n",
       "      <td>117.080</td>\n",
       "      <td>3847904</td>\n",
       "      <td>18508</td>\n",
       "      <td>117.030930</td>\n",
       "      <td>AGG</td>\n",
       "    </tr>\n",
       "    <tr>\n",
       "      <th>2020-04-21 04:00:00+00:00</th>\n",
       "      <td>117.43</td>\n",
       "      <td>117.4400</td>\n",
       "      <td>117.0700</td>\n",
       "      <td>117.140</td>\n",
       "      <td>4660507</td>\n",
       "      <td>19425</td>\n",
       "      <td>117.166762</td>\n",
       "      <td>AGG</td>\n",
       "    </tr>\n",
       "  </tbody>\n",
       "</table>\n",
       "<p>1000 rows × 8 columns</p>\n",
       "</div>"
      ],
      "text/plain": [
       "                             open      high       low    close   volume  \\\n",
       "timestamp                                                                 \n",
       "2016-05-02 04:00:00+00:00  110.74  110.7400  110.5200  110.605  3553939   \n",
       "2016-05-03 04:00:00+00:00  110.89  110.9450  110.7500  110.810  3044940   \n",
       "2016-05-04 04:00:00+00:00  110.91  110.9315  110.7595  110.860  2920608   \n",
       "2016-05-05 04:00:00+00:00  110.92  111.1600  110.8010  111.140  3008142   \n",
       "2016-05-06 04:00:00+00:00  111.12  111.1200  110.9700  110.970  2718710   \n",
       "...                           ...       ...       ...      ...      ...   \n",
       "2020-04-15 04:00:00+00:00  117.03  117.3050  116.7100  117.240  4367410   \n",
       "2020-04-16 04:00:00+00:00  117.19  117.5250  117.1900  117.390  4744716   \n",
       "2020-04-17 04:00:00+00:00  117.52  117.6200  117.0350  117.250  4949824   \n",
       "2020-04-20 04:00:00+00:00  117.15  117.2800  116.9400  117.080  3847904   \n",
       "2020-04-21 04:00:00+00:00  117.43  117.4400  117.0700  117.140  4660507   \n",
       "\n",
       "                           trade_count        vwap symbol  \n",
       "timestamp                                                  \n",
       "2016-05-02 04:00:00+00:00        15119  110.627199    AGG  \n",
       "2016-05-03 04:00:00+00:00        15662  110.865995    AGG  \n",
       "2016-05-04 04:00:00+00:00        13982  110.879063    AGG  \n",
       "2016-05-05 04:00:00+00:00        15707  111.028363    AGG  \n",
       "2016-05-06 04:00:00+00:00        12697  111.031967    AGG  \n",
       "...                                ...         ...    ...  \n",
       "2020-04-15 04:00:00+00:00        19620  117.144915    AGG  \n",
       "2020-04-16 04:00:00+00:00        16906  117.399687    AGG  \n",
       "2020-04-17 04:00:00+00:00        25621  117.358347    AGG  \n",
       "2020-04-20 04:00:00+00:00        18508  117.030930    AGG  \n",
       "2020-04-21 04:00:00+00:00        19425  117.166762    AGG  \n",
       "\n",
       "[1000 rows x 8 columns]"
      ]
     },
     "execution_count": 97,
     "metadata": {},
     "output_type": "execute_result"
    }
   ],
   "source": [
    "# Get 5 years' worth of historical data for SPY and AGG\n",
    "timeframe = \"1D\"\n",
    "\n",
    "# Reorganize the DataFrame\n",
    "# Separate ticker data\n",
    "df_stock_data = api.get_bars(tickers, timeframe, start=start_date, end=end_date, limit=1000).df\n",
    "\n",
    "# Concatenate the ticker DataFrames\n",
    "\n",
    "# Display sample data\n",
    "df_stock_data"
   ]
  },
  {
   "cell_type": "code",
   "execution_count": 99,
   "metadata": {},
   "outputs": [
    {
     "ename": "IndexError",
     "evalue": "Too many levels: Index has only 1 level, not 2",
     "output_type": "error",
     "traceback": [
      "\u001b[1;31m---------------------------------------------------------------------------\u001b[0m",
      "\u001b[1;31mIndexError\u001b[0m                                Traceback (most recent call last)",
      "Input \u001b[1;32mIn [99]\u001b[0m, in \u001b[0;36m<cell line: 2>\u001b[1;34m()\u001b[0m\n\u001b[0;32m      1\u001b[0m \u001b[38;5;66;03m# Configuring a Monte Carlo simulation to forecast 30 years cumulative returns\u001b[39;00m\n\u001b[1;32m----> 2\u001b[0m MC_30_yrs \u001b[38;5;241m=\u001b[39m \u001b[43mMCSimulation\u001b[49m\u001b[43m(\u001b[49m\n\u001b[0;32m      3\u001b[0m \u001b[43m    \u001b[49m\u001b[43mportfolio_data\u001b[49m\u001b[43m \u001b[49m\u001b[38;5;241;43m=\u001b[39;49m\u001b[43m \u001b[49m\u001b[43mdf_stock_data\u001b[49m\u001b[43m,\u001b[49m\n\u001b[0;32m      4\u001b[0m \u001b[43m    \u001b[49m\u001b[43mweights\u001b[49m\u001b[43m \u001b[49m\u001b[38;5;241;43m=\u001b[39;49m\u001b[43m \u001b[49m\u001b[43m[\u001b[49m\u001b[38;5;241;43m.40\u001b[39;49m\u001b[43m,\u001b[49m\u001b[38;5;241;43m.60\u001b[39;49m\u001b[43m]\u001b[49m\u001b[43m,\u001b[49m\u001b[43m   \u001b[49m\n\u001b[0;32m      5\u001b[0m \u001b[43m    \u001b[49m\u001b[43mnum_simulation\u001b[49m\u001b[43m \u001b[49m\u001b[38;5;241;43m=\u001b[39;49m\u001b[43m \u001b[49m\u001b[38;5;241;43m500\u001b[39;49m\u001b[43m,\u001b[49m\n\u001b[0;32m      6\u001b[0m \u001b[43m    \u001b[49m\u001b[43mnum_trading_days\u001b[49m\u001b[43m \u001b[49m\u001b[38;5;241;43m=\u001b[39;49m\u001b[43m \u001b[49m\u001b[38;5;241;43m252\u001b[39;49m\u001b[38;5;241;43m*\u001b[39;49m\u001b[38;5;241;43m30\u001b[39;49m\n\u001b[0;32m      7\u001b[0m \u001b[43m)\u001b[49m\n",
      "File \u001b[1;32m~\\Documents\\University of Toronto\\BootCamp\\Week 5\\Assignments\\Instructions\\Starter_Code\\MCForecastTools.py:61\u001b[0m, in \u001b[0;36mMCSimulation.__init__\u001b[1;34m(self, portfolio_data, weights, num_simulation, num_trading_days)\u001b[0m\n\u001b[0;32m     58\u001b[0m         \u001b[38;5;28;01mraise\u001b[39;00m \u001b[38;5;167;01mAttributeError\u001b[39;00m(\u001b[38;5;124m\"\u001b[39m\u001b[38;5;124mSum of portfolio weights must equal one.\u001b[39m\u001b[38;5;124m\"\u001b[39m)\n\u001b[0;32m     60\u001b[0m \u001b[38;5;66;03m# Calculate daily return if not within dataframe\u001b[39;00m\n\u001b[1;32m---> 61\u001b[0m \u001b[38;5;28;01mif\u001b[39;00m \u001b[38;5;129;01mnot\u001b[39;00m \u001b[38;5;124m\"\u001b[39m\u001b[38;5;124mdaily_return\u001b[39m\u001b[38;5;124m\"\u001b[39m \u001b[38;5;129;01min\u001b[39;00m \u001b[43mportfolio_data\u001b[49m\u001b[38;5;241;43m.\u001b[39;49m\u001b[43mcolumns\u001b[49m\u001b[38;5;241;43m.\u001b[39;49m\u001b[43mget_level_values\u001b[49m\u001b[43m(\u001b[49m\u001b[38;5;241;43m1\u001b[39;49m\u001b[43m)\u001b[49m\u001b[38;5;241m.\u001b[39munique():\n\u001b[0;32m     62\u001b[0m     close_df \u001b[38;5;241m=\u001b[39m portfolio_data\u001b[38;5;241m.\u001b[39mxs(\u001b[38;5;124m'\u001b[39m\u001b[38;5;124mclose\u001b[39m\u001b[38;5;124m'\u001b[39m,level\u001b[38;5;241m=\u001b[39m\u001b[38;5;241m1\u001b[39m,axis\u001b[38;5;241m=\u001b[39m\u001b[38;5;241m1\u001b[39m)\u001b[38;5;241m.\u001b[39mpct_change()\n\u001b[0;32m     63\u001b[0m     tickers \u001b[38;5;241m=\u001b[39m portfolio_data\u001b[38;5;241m.\u001b[39mcolumns\u001b[38;5;241m.\u001b[39mget_level_values(\u001b[38;5;241m0\u001b[39m)\u001b[38;5;241m.\u001b[39munique()\n",
      "File \u001b[1;32m~\\anaconda3\\lib\\site-packages\\pandas\\core\\indexes\\base.py:2008\u001b[0m, in \u001b[0;36mIndex._get_level_values\u001b[1;34m(self, level)\u001b[0m\n\u001b[0;32m   1972\u001b[0m \u001b[38;5;28;01mdef\u001b[39;00m \u001b[38;5;21m_get_level_values\u001b[39m(\u001b[38;5;28mself\u001b[39m, level) \u001b[38;5;241m-\u001b[39m\u001b[38;5;241m>\u001b[39m Index:\n\u001b[0;32m   1973\u001b[0m     \u001b[38;5;124;03m\"\"\"\u001b[39;00m\n\u001b[0;32m   1974\u001b[0m \u001b[38;5;124;03m    Return an Index of values for requested level.\u001b[39;00m\n\u001b[0;32m   1975\u001b[0m \n\u001b[1;32m   (...)\u001b[0m\n\u001b[0;32m   2006\u001b[0m \u001b[38;5;124;03m    Index(['a', 'b', 'c'], dtype='object')\u001b[39;00m\n\u001b[0;32m   2007\u001b[0m \u001b[38;5;124;03m    \"\"\"\u001b[39;00m\n\u001b[1;32m-> 2008\u001b[0m     \u001b[38;5;28;43mself\u001b[39;49m\u001b[38;5;241;43m.\u001b[39;49m\u001b[43m_validate_index_level\u001b[49m\u001b[43m(\u001b[49m\u001b[43mlevel\u001b[49m\u001b[43m)\u001b[49m\n\u001b[0;32m   2009\u001b[0m     \u001b[38;5;28;01mreturn\u001b[39;00m \u001b[38;5;28mself\u001b[39m\n",
      "File \u001b[1;32m~\\anaconda3\\lib\\site-packages\\pandas\\core\\indexes\\base.py:1927\u001b[0m, in \u001b[0;36mIndex._validate_index_level\u001b[1;34m(self, level)\u001b[0m\n\u001b[0;32m   1922\u001b[0m         \u001b[38;5;28;01mraise\u001b[39;00m \u001b[38;5;167;01mIndexError\u001b[39;00m(\n\u001b[0;32m   1923\u001b[0m             \u001b[38;5;124m\"\u001b[39m\u001b[38;5;124mToo many levels: Index has only 1 level, \u001b[39m\u001b[38;5;124m\"\u001b[39m\n\u001b[0;32m   1924\u001b[0m             \u001b[38;5;124mf\u001b[39m\u001b[38;5;124m\"\u001b[39m\u001b[38;5;132;01m{\u001b[39;00mlevel\u001b[38;5;132;01m}\u001b[39;00m\u001b[38;5;124m is not a valid level number\u001b[39m\u001b[38;5;124m\"\u001b[39m\n\u001b[0;32m   1925\u001b[0m         )\n\u001b[0;32m   1926\u001b[0m     \u001b[38;5;28;01melif\u001b[39;00m level \u001b[38;5;241m>\u001b[39m \u001b[38;5;241m0\u001b[39m:\n\u001b[1;32m-> 1927\u001b[0m         \u001b[38;5;28;01mraise\u001b[39;00m \u001b[38;5;167;01mIndexError\u001b[39;00m(\n\u001b[0;32m   1928\u001b[0m             \u001b[38;5;124mf\u001b[39m\u001b[38;5;124m\"\u001b[39m\u001b[38;5;124mToo many levels: Index has only 1 level, not \u001b[39m\u001b[38;5;132;01m{\u001b[39;00mlevel \u001b[38;5;241m+\u001b[39m \u001b[38;5;241m1\u001b[39m\u001b[38;5;132;01m}\u001b[39;00m\u001b[38;5;124m\"\u001b[39m\n\u001b[0;32m   1929\u001b[0m         )\n\u001b[0;32m   1930\u001b[0m \u001b[38;5;28;01melif\u001b[39;00m level \u001b[38;5;241m!=\u001b[39m \u001b[38;5;28mself\u001b[39m\u001b[38;5;241m.\u001b[39mname:\n\u001b[0;32m   1931\u001b[0m     \u001b[38;5;28;01mraise\u001b[39;00m \u001b[38;5;167;01mKeyError\u001b[39;00m(\n\u001b[0;32m   1932\u001b[0m         \u001b[38;5;124mf\u001b[39m\u001b[38;5;124m\"\u001b[39m\u001b[38;5;124mRequested level (\u001b[39m\u001b[38;5;132;01m{\u001b[39;00mlevel\u001b[38;5;132;01m}\u001b[39;00m\u001b[38;5;124m) does not match index name (\u001b[39m\u001b[38;5;132;01m{\u001b[39;00m\u001b[38;5;28mself\u001b[39m\u001b[38;5;241m.\u001b[39mname\u001b[38;5;132;01m}\u001b[39;00m\u001b[38;5;124m)\u001b[39m\u001b[38;5;124m\"\u001b[39m\n\u001b[0;32m   1933\u001b[0m     )\n",
      "\u001b[1;31mIndexError\u001b[0m: Too many levels: Index has only 1 level, not 2"
     ]
    }
   ],
   "source": [
    "# Configuring a Monte Carlo simulation to forecast 30 years cumulative returns\n",
    "MC_30_yrs = MCSimulation(\n",
    "    portfolio_data = df_stock_data,\n",
    "    weights = [.40,.60],   \n",
    "    num_simulation = 500,\n",
    "    num_trading_days = 252*30\n",
    ")"
   ]
  },
  {
   "cell_type": "code",
   "execution_count": 100,
   "metadata": {},
   "outputs": [
    {
     "ename": "NameError",
     "evalue": "name 'MC_30_yrs' is not defined",
     "output_type": "error",
     "traceback": [
      "\u001b[1;31m---------------------------------------------------------------------------\u001b[0m",
      "\u001b[1;31mNameError\u001b[0m                                 Traceback (most recent call last)",
      "Input \u001b[1;32mIn [100]\u001b[0m, in \u001b[0;36m<cell line: 2>\u001b[1;34m()\u001b[0m\n\u001b[0;32m      1\u001b[0m \u001b[38;5;66;03m# Printing the simulation input data\u001b[39;00m\n\u001b[1;32m----> 2\u001b[0m \u001b[43mMC_30_yrs\u001b[49m\u001b[38;5;241m.\u001b[39mportfolio_data\u001b[38;5;241m.\u001b[39mhead()\n",
      "\u001b[1;31mNameError\u001b[0m: name 'MC_30_yrs' is not defined"
     ]
    }
   ],
   "source": [
    "# Printing the simulation input data\n",
    "MC_30_yrs.portfolio_data.head()"
   ]
  },
  {
   "cell_type": "code",
   "execution_count": 59,
   "metadata": {},
   "outputs": [
    {
     "ename": "NameError",
     "evalue": "name 'MC_30year' is not defined",
     "output_type": "error",
     "traceback": [
      "\u001b[1;31m---------------------------------------------------------------------------\u001b[0m",
      "\u001b[1;31mNameError\u001b[0m                                 Traceback (most recent call last)",
      "Input \u001b[1;32mIn [59]\u001b[0m, in \u001b[0;36m<cell line: 2>\u001b[1;34m()\u001b[0m\n\u001b[0;32m      1\u001b[0m \u001b[38;5;66;03m# Running a Monte Carlo simulation to forecast 30 years cumulative returns\u001b[39;00m\n\u001b[1;32m----> 2\u001b[0m \u001b[43mMC_30year\u001b[49m\u001b[38;5;241m.\u001b[39mcalc_cumulative_return()\n",
      "\u001b[1;31mNameError\u001b[0m: name 'MC_30year' is not defined"
     ]
    }
   ],
   "source": [
    "# Running a Monte Carlo simulation to forecast 30 years cumulative returns\n",
    "MC_30year.calc_cumulative_return()"
   ]
  },
  {
   "cell_type": "code",
   "execution_count": 60,
   "metadata": {},
   "outputs": [
    {
     "ename": "NameError",
     "evalue": "name 'MC_30year' is not defined",
     "output_type": "error",
     "traceback": [
      "\u001b[1;31m---------------------------------------------------------------------------\u001b[0m",
      "\u001b[1;31mNameError\u001b[0m                                 Traceback (most recent call last)",
      "Input \u001b[1;32mIn [60]\u001b[0m, in \u001b[0;36m<cell line: 2>\u001b[1;34m()\u001b[0m\n\u001b[0;32m      1\u001b[0m \u001b[38;5;66;03m# Plot simulation outcomes\u001b[39;00m\n\u001b[1;32m----> 2\u001b[0m \u001b[43mMC_30year\u001b[49m\u001b[38;5;241m.\u001b[39mportfolio_data\u001b[38;5;241m.\u001b[39mplot_simulation()\n",
      "\u001b[1;31mNameError\u001b[0m: name 'MC_30year' is not defined"
     ]
    }
   ],
   "source": [
    "# Plot simulation outcomes\n",
    "MC_30year.portfolio_data.plot_simulation()"
   ]
  },
  {
   "cell_type": "code",
   "execution_count": 61,
   "metadata": {},
   "outputs": [
    {
     "ename": "NameError",
     "evalue": "name 'MC_30year' is not defined",
     "output_type": "error",
     "traceback": [
      "\u001b[1;31m---------------------------------------------------------------------------\u001b[0m",
      "\u001b[1;31mNameError\u001b[0m                                 Traceback (most recent call last)",
      "Input \u001b[1;32mIn [61]\u001b[0m, in \u001b[0;36m<cell line: 2>\u001b[1;34m()\u001b[0m\n\u001b[0;32m      1\u001b[0m \u001b[38;5;66;03m# Plot probability distribution and confidence intervals\u001b[39;00m\n\u001b[1;32m----> 2\u001b[0m \u001b[43mMC_30year\u001b[49m\u001b[38;5;241m.\u001b[39mplot_distribution()\n",
      "\u001b[1;31mNameError\u001b[0m: name 'MC_30year' is not defined"
     ]
    }
   ],
   "source": [
    "# Plot probability distribution and confidence intervals\n",
    "MC_30year.plot_distribution()"
   ]
  },
  {
   "cell_type": "markdown",
   "metadata": {},
   "source": [
    "### Retirement Analysis"
   ]
  },
  {
   "cell_type": "code",
   "execution_count": 62,
   "metadata": {},
   "outputs": [
    {
     "ename": "NameError",
     "evalue": "name 'MC_30year' is not defined",
     "output_type": "error",
     "traceback": [
      "\u001b[1;31m---------------------------------------------------------------------------\u001b[0m",
      "\u001b[1;31mNameError\u001b[0m                                 Traceback (most recent call last)",
      "Input \u001b[1;32mIn [62]\u001b[0m, in \u001b[0;36m<cell line: 2>\u001b[1;34m()\u001b[0m\n\u001b[0;32m      1\u001b[0m \u001b[38;5;66;03m# Fetch summary statistics from the Monte Carlo simulation results\u001b[39;00m\n\u001b[1;32m----> 2\u001b[0m MC_30year_summary \u001b[38;5;241m=\u001b[39m \u001b[43mMC_30year\u001b[49m\u001b[38;5;241m.\u001b[39msummarize_cumulative_return()\n\u001b[0;32m      3\u001b[0m \u001b[38;5;66;03m# Print summary statistics\u001b[39;00m\n\u001b[0;32m      4\u001b[0m \u001b[38;5;28mprint\u001b[39m(MC_30year_summary)\n",
      "\u001b[1;31mNameError\u001b[0m: name 'MC_30year' is not defined"
     ]
    }
   ],
   "source": [
    "# Fetch summary statistics from the Monte Carlo simulation results\n",
    "MC_30year_summary = MC_30year.summarize_cumulative_return()\n",
    "# Print summary statistics\n",
    "print(MC_30year_summary)"
   ]
  },
  {
   "cell_type": "markdown",
   "metadata": {},
   "source": [
    "### Calculate the expected portfolio return at the `95%` lower and upper confidence intervals based on a `$20,000` initial investment."
   ]
  },
  {
   "cell_type": "code",
   "execution_count": 63,
   "metadata": {},
   "outputs": [
    {
     "ename": "NameError",
     "evalue": "name 'MC_30year_summary' is not defined",
     "output_type": "error",
     "traceback": [
      "\u001b[1;31m---------------------------------------------------------------------------\u001b[0m",
      "\u001b[1;31mNameError\u001b[0m                                 Traceback (most recent call last)",
      "Input \u001b[1;32mIn [63]\u001b[0m, in \u001b[0;36m<cell line: 5>\u001b[1;34m()\u001b[0m\n\u001b[0;32m      2\u001b[0m initial_investment \u001b[38;5;241m=\u001b[39m \u001b[38;5;241m20000\u001b[39m\n\u001b[0;32m      4\u001b[0m \u001b[38;5;66;03m# Use the lower and upper `95%` confidence intervals to calculate the range of the possible outcomes of our $20,000\u001b[39;00m\n\u001b[1;32m----> 5\u001b[0m ci_lower_20k \u001b[38;5;241m=\u001b[39m \u001b[38;5;28mround\u001b[39m(\u001b[43mMC_30year_summary\u001b[49m[\u001b[38;5;241m8\u001b[39m]\u001b[38;5;241m*\u001b[39minitial_investment_30yr_20K,\u001b[38;5;241m2\u001b[39m)\n\u001b[0;32m      6\u001b[0m ci_upper_20k \u001b[38;5;241m=\u001b[39m \u001b[38;5;28mround\u001b[39m(MC_30year_summary[\u001b[38;5;241m9\u001b[39m]\u001b[38;5;241m*\u001b[39minitial_investment_30yr_20K,\u001b[38;5;241m2\u001b[39m)\n\u001b[0;32m      7\u001b[0m \u001b[38;5;66;03m# Print results\u001b[39;00m\n",
      "\u001b[1;31mNameError\u001b[0m: name 'MC_30year_summary' is not defined"
     ]
    }
   ],
   "source": [
    "# Set initial investment\n",
    "initial_investment = 20000\n",
    "\n",
    "# Use the lower and upper `95%` confidence intervals to calculate the range of the possible outcomes of our $20,000\n",
    "ci_lower_20k = round(MC_30year_summary[8]*initial_investment_30yr_20K,2)\n",
    "ci_upper_20k = round(MC_30year_summary[9]*initial_investment_30yr_20K,2)\n",
    "# Print results\n",
    "print(f\"There is a 95% chance that an initial investment of ${initial_investment} in the portfolio\"\n",
    "      f\" over the next 30 years will end within in the range of\"\n",
    "      f\" ${ci_lower} and ${ci_upper}\")"
   ]
  },
  {
   "cell_type": "markdown",
   "metadata": {},
   "source": [
    "### Calculate the expected portfolio return at the `95%` lower and upper confidence intervals based on a `50%` increase in the initial investment."
   ]
  },
  {
   "cell_type": "code",
   "execution_count": 64,
   "metadata": {},
   "outputs": [
    {
     "ename": "NameError",
     "evalue": "name 'MC_30year_summary' is not defined",
     "output_type": "error",
     "traceback": [
      "\u001b[1;31m---------------------------------------------------------------------------\u001b[0m",
      "\u001b[1;31mNameError\u001b[0m                                 Traceback (most recent call last)",
      "Input \u001b[1;32mIn [64]\u001b[0m, in \u001b[0;36m<cell line: 5>\u001b[1;34m()\u001b[0m\n\u001b[0;32m      2\u001b[0m initial_investment \u001b[38;5;241m=\u001b[39m \u001b[38;5;241m20000\u001b[39m \u001b[38;5;241m*\u001b[39m \u001b[38;5;241m1.5\u001b[39m\n\u001b[0;32m      4\u001b[0m \u001b[38;5;66;03m# Use the lower and upper `95%` confidence intervals to calculate the range of the possible outcomes of our $30,000\u001b[39;00m\n\u001b[1;32m----> 5\u001b[0m ci_lower_30k \u001b[38;5;241m=\u001b[39m \u001b[38;5;28mround\u001b[39m(\u001b[43mMC_30year_summary\u001b[49m[\u001b[38;5;241m8\u001b[39m]\u001b[38;5;241m*\u001b[39minitial_investment_30yr_30K,\u001b[38;5;241m2\u001b[39m)\n\u001b[0;32m      6\u001b[0m ci_upper_30k \u001b[38;5;241m=\u001b[39m \u001b[38;5;28mround\u001b[39m(MC_30year_summary[\u001b[38;5;241m9\u001b[39m]\u001b[38;5;241m*\u001b[39minitial_investment_30yr_30K,\u001b[38;5;241m2\u001b[39m)\n\u001b[0;32m      8\u001b[0m \u001b[38;5;66;03m# Print results\u001b[39;00m\n",
      "\u001b[1;31mNameError\u001b[0m: name 'MC_30year_summary' is not defined"
     ]
    }
   ],
   "source": [
    "# Set initial investment\n",
    "initial_investment = 20000 * 1.5\n",
    "\n",
    "# Use the lower and upper `95%` confidence intervals to calculate the range of the possible outcomes of our $30,000\n",
    "ci_lower_30k = round(MC_30year_summary[8]*initial_investment_30yr_30K,2)\n",
    "ci_upper_30k = round(MC_30year_summary[9]*initial_investment_30yr_30K,2)\n",
    "\n",
    "# Print results\n",
    "print(f\"There is a 95% chance that an initial investment of ${initial_investment} in the portfolio\"\n",
    "      f\" over the next 30 years will end within in the range of\"\n",
    "      f\" ${ci_lower} and ${ci_upper}\")"
   ]
  },
  {
   "cell_type": "markdown",
   "metadata": {},
   "source": [
    "## Optional Challenge - Early Retirement\n",
    "\n",
    "\n",
    "### Five Years Retirement Option"
   ]
  },
  {
   "cell_type": "code",
   "execution_count": 65,
   "metadata": {},
   "outputs": [
    {
     "ename": "IndexError",
     "evalue": "Too many levels: Index has only 1 level, not 2",
     "output_type": "error",
     "traceback": [
      "\u001b[1;31m---------------------------------------------------------------------------\u001b[0m",
      "\u001b[1;31mIndexError\u001b[0m                                Traceback (most recent call last)",
      "Input \u001b[1;32mIn [65]\u001b[0m, in \u001b[0;36m<cell line: 2>\u001b[1;34m()\u001b[0m\n\u001b[0;32m      1\u001b[0m \u001b[38;5;66;03m# Configuring a Monte Carlo simulation to forecast 5 years cumulative returns\u001b[39;00m\n\u001b[1;32m----> 2\u001b[0m MC_30year_dist_5yrs \u001b[38;5;241m=\u001b[39m \u001b[43mMCSimulation\u001b[49m\u001b[43m(\u001b[49m\u001b[43mportfolio_data\u001b[49m\u001b[43m \u001b[49m\u001b[38;5;241;43m=\u001b[39;49m\u001b[43m \u001b[49m\u001b[43mdf_stock_data\u001b[49m\u001b[43m,\u001b[49m\u001b[43mweights\u001b[49m\u001b[43m \u001b[49m\u001b[38;5;241;43m=\u001b[39;49m\u001b[43m \u001b[49m\u001b[43m[\u001b[49m\u001b[38;5;241;43m0.4\u001b[39;49m\u001b[43m,\u001b[49m\u001b[38;5;241;43m0.6\u001b[39;49m\u001b[43m]\u001b[49m\u001b[43m,\u001b[49m\u001b[43mnum_simulation\u001b[49m\u001b[43m \u001b[49m\u001b[38;5;241;43m=\u001b[39;49m\u001b[43m \u001b[49m\u001b[38;5;241;43m500\u001b[39;49m\u001b[43m,\u001b[49m\u001b[43mnum_trading_days\u001b[49m\u001b[43m \u001b[49m\u001b[38;5;241;43m=\u001b[39;49m\u001b[43m \u001b[49m\u001b[38;5;241;43m252\u001b[39;49m\u001b[38;5;241;43m*\u001b[39;49m\u001b[38;5;241;43m5\u001b[39;49m\u001b[43m)\u001b[49m\n",
      "File \u001b[1;32m~\\Documents\\University of Toronto\\BootCamp\\Week 5\\Assignments\\Instructions\\Starter_Code\\MCForecastTools.py:61\u001b[0m, in \u001b[0;36mMCSimulation.__init__\u001b[1;34m(self, portfolio_data, weights, num_simulation, num_trading_days)\u001b[0m\n\u001b[0;32m     58\u001b[0m         \u001b[38;5;28;01mraise\u001b[39;00m \u001b[38;5;167;01mAttributeError\u001b[39;00m(\u001b[38;5;124m\"\u001b[39m\u001b[38;5;124mSum of portfolio weights must equal one.\u001b[39m\u001b[38;5;124m\"\u001b[39m)\n\u001b[0;32m     60\u001b[0m \u001b[38;5;66;03m# Calculate daily return if not within dataframe\u001b[39;00m\n\u001b[1;32m---> 61\u001b[0m \u001b[38;5;28;01mif\u001b[39;00m \u001b[38;5;129;01mnot\u001b[39;00m \u001b[38;5;124m\"\u001b[39m\u001b[38;5;124mdaily_return\u001b[39m\u001b[38;5;124m\"\u001b[39m \u001b[38;5;129;01min\u001b[39;00m \u001b[43mportfolio_data\u001b[49m\u001b[38;5;241;43m.\u001b[39;49m\u001b[43mcolumns\u001b[49m\u001b[38;5;241;43m.\u001b[39;49m\u001b[43mget_level_values\u001b[49m\u001b[43m(\u001b[49m\u001b[38;5;241;43m1\u001b[39;49m\u001b[43m)\u001b[49m\u001b[38;5;241m.\u001b[39munique():\n\u001b[0;32m     62\u001b[0m     close_df \u001b[38;5;241m=\u001b[39m portfolio_data\u001b[38;5;241m.\u001b[39mxs(\u001b[38;5;124m'\u001b[39m\u001b[38;5;124mclose\u001b[39m\u001b[38;5;124m'\u001b[39m,level\u001b[38;5;241m=\u001b[39m\u001b[38;5;241m1\u001b[39m,axis\u001b[38;5;241m=\u001b[39m\u001b[38;5;241m1\u001b[39m)\u001b[38;5;241m.\u001b[39mpct_change()\n\u001b[0;32m     63\u001b[0m     tickers \u001b[38;5;241m=\u001b[39m portfolio_data\u001b[38;5;241m.\u001b[39mcolumns\u001b[38;5;241m.\u001b[39mget_level_values(\u001b[38;5;241m0\u001b[39m)\u001b[38;5;241m.\u001b[39munique()\n",
      "File \u001b[1;32m~\\anaconda3\\lib\\site-packages\\pandas\\core\\indexes\\base.py:2008\u001b[0m, in \u001b[0;36mIndex._get_level_values\u001b[1;34m(self, level)\u001b[0m\n\u001b[0;32m   1972\u001b[0m \u001b[38;5;28;01mdef\u001b[39;00m \u001b[38;5;21m_get_level_values\u001b[39m(\u001b[38;5;28mself\u001b[39m, level) \u001b[38;5;241m-\u001b[39m\u001b[38;5;241m>\u001b[39m Index:\n\u001b[0;32m   1973\u001b[0m     \u001b[38;5;124;03m\"\"\"\u001b[39;00m\n\u001b[0;32m   1974\u001b[0m \u001b[38;5;124;03m    Return an Index of values for requested level.\u001b[39;00m\n\u001b[0;32m   1975\u001b[0m \n\u001b[1;32m   (...)\u001b[0m\n\u001b[0;32m   2006\u001b[0m \u001b[38;5;124;03m    Index(['a', 'b', 'c'], dtype='object')\u001b[39;00m\n\u001b[0;32m   2007\u001b[0m \u001b[38;5;124;03m    \"\"\"\u001b[39;00m\n\u001b[1;32m-> 2008\u001b[0m     \u001b[38;5;28;43mself\u001b[39;49m\u001b[38;5;241;43m.\u001b[39;49m\u001b[43m_validate_index_level\u001b[49m\u001b[43m(\u001b[49m\u001b[43mlevel\u001b[49m\u001b[43m)\u001b[49m\n\u001b[0;32m   2009\u001b[0m     \u001b[38;5;28;01mreturn\u001b[39;00m \u001b[38;5;28mself\u001b[39m\n",
      "File \u001b[1;32m~\\anaconda3\\lib\\site-packages\\pandas\\core\\indexes\\base.py:1927\u001b[0m, in \u001b[0;36mIndex._validate_index_level\u001b[1;34m(self, level)\u001b[0m\n\u001b[0;32m   1922\u001b[0m         \u001b[38;5;28;01mraise\u001b[39;00m \u001b[38;5;167;01mIndexError\u001b[39;00m(\n\u001b[0;32m   1923\u001b[0m             \u001b[38;5;124m\"\u001b[39m\u001b[38;5;124mToo many levels: Index has only 1 level, \u001b[39m\u001b[38;5;124m\"\u001b[39m\n\u001b[0;32m   1924\u001b[0m             \u001b[38;5;124mf\u001b[39m\u001b[38;5;124m\"\u001b[39m\u001b[38;5;132;01m{\u001b[39;00mlevel\u001b[38;5;132;01m}\u001b[39;00m\u001b[38;5;124m is not a valid level number\u001b[39m\u001b[38;5;124m\"\u001b[39m\n\u001b[0;32m   1925\u001b[0m         )\n\u001b[0;32m   1926\u001b[0m     \u001b[38;5;28;01melif\u001b[39;00m level \u001b[38;5;241m>\u001b[39m \u001b[38;5;241m0\u001b[39m:\n\u001b[1;32m-> 1927\u001b[0m         \u001b[38;5;28;01mraise\u001b[39;00m \u001b[38;5;167;01mIndexError\u001b[39;00m(\n\u001b[0;32m   1928\u001b[0m             \u001b[38;5;124mf\u001b[39m\u001b[38;5;124m\"\u001b[39m\u001b[38;5;124mToo many levels: Index has only 1 level, not \u001b[39m\u001b[38;5;132;01m{\u001b[39;00mlevel \u001b[38;5;241m+\u001b[39m \u001b[38;5;241m1\u001b[39m\u001b[38;5;132;01m}\u001b[39;00m\u001b[38;5;124m\"\u001b[39m\n\u001b[0;32m   1929\u001b[0m         )\n\u001b[0;32m   1930\u001b[0m \u001b[38;5;28;01melif\u001b[39;00m level \u001b[38;5;241m!=\u001b[39m \u001b[38;5;28mself\u001b[39m\u001b[38;5;241m.\u001b[39mname:\n\u001b[0;32m   1931\u001b[0m     \u001b[38;5;28;01mraise\u001b[39;00m \u001b[38;5;167;01mKeyError\u001b[39;00m(\n\u001b[0;32m   1932\u001b[0m         \u001b[38;5;124mf\u001b[39m\u001b[38;5;124m\"\u001b[39m\u001b[38;5;124mRequested level (\u001b[39m\u001b[38;5;132;01m{\u001b[39;00mlevel\u001b[38;5;132;01m}\u001b[39;00m\u001b[38;5;124m) does not match index name (\u001b[39m\u001b[38;5;132;01m{\u001b[39;00m\u001b[38;5;28mself\u001b[39m\u001b[38;5;241m.\u001b[39mname\u001b[38;5;132;01m}\u001b[39;00m\u001b[38;5;124m)\u001b[39m\u001b[38;5;124m\"\u001b[39m\n\u001b[0;32m   1933\u001b[0m     )\n",
      "\u001b[1;31mIndexError\u001b[0m: Too many levels: Index has only 1 level, not 2"
     ]
    }
   ],
   "source": [
    "# Configuring a Monte Carlo simulation to forecast 5 years cumulative returns\n",
    "MC_30year_dist_5yrs = MCSimulation(portfolio_data = df_stock_data,weights = [0.4,0.6],num_simulation = 500,num_trading_days = 252*5)"
   ]
  },
  {
   "cell_type": "code",
   "execution_count": 66,
   "metadata": {},
   "outputs": [
    {
     "ename": "NameError",
     "evalue": "name 'MC_30year_5yrs' is not defined",
     "output_type": "error",
     "traceback": [
      "\u001b[1;31m---------------------------------------------------------------------------\u001b[0m",
      "\u001b[1;31mNameError\u001b[0m                                 Traceback (most recent call last)",
      "Input \u001b[1;32mIn [66]\u001b[0m, in \u001b[0;36m<cell line: 2>\u001b[1;34m()\u001b[0m\n\u001b[0;32m      1\u001b[0m \u001b[38;5;66;03m# Running a Monte Carlo simulation to forecast 5 years cumulative returns\u001b[39;00m\n\u001b[1;32m----> 2\u001b[0m \u001b[43mMC_30year_5yrs\u001b[49m\u001b[38;5;241m.\u001b[39mcalc_cumulative_return()\n",
      "\u001b[1;31mNameError\u001b[0m: name 'MC_30year_5yrs' is not defined"
     ]
    }
   ],
   "source": [
    "# Running a Monte Carlo simulation to forecast 5 years cumulative returns\n",
    "MC_30year_5yrs.calc_cumulative_return()"
   ]
  },
  {
   "cell_type": "code",
   "execution_count": 67,
   "metadata": {},
   "outputs": [
    {
     "ename": "NameError",
     "evalue": "name 'MC_30year_5yrs' is not defined",
     "output_type": "error",
     "traceback": [
      "\u001b[1;31m---------------------------------------------------------------------------\u001b[0m",
      "\u001b[1;31mNameError\u001b[0m                                 Traceback (most recent call last)",
      "Input \u001b[1;32mIn [67]\u001b[0m, in \u001b[0;36m<cell line: 2>\u001b[1;34m()\u001b[0m\n\u001b[0;32m      1\u001b[0m \u001b[38;5;66;03m# Plot simulation outcomes\u001b[39;00m\n\u001b[1;32m----> 2\u001b[0m \u001b[43mMC_30year_5yrs\u001b[49m\u001b[38;5;241m.\u001b[39mplot_simulation()\n",
      "\u001b[1;31mNameError\u001b[0m: name 'MC_30year_5yrs' is not defined"
     ]
    }
   ],
   "source": [
    "# Plot simulation outcomes\n",
    "MC_30year_5yrs.plot_simulation()"
   ]
  },
  {
   "cell_type": "code",
   "execution_count": 68,
   "metadata": {},
   "outputs": [
    {
     "ename": "NameError",
     "evalue": "name 'MC_30year_5yrs' is not defined",
     "output_type": "error",
     "traceback": [
      "\u001b[1;31m---------------------------------------------------------------------------\u001b[0m",
      "\u001b[1;31mNameError\u001b[0m                                 Traceback (most recent call last)",
      "Input \u001b[1;32mIn [68]\u001b[0m, in \u001b[0;36m<cell line: 2>\u001b[1;34m()\u001b[0m\n\u001b[0;32m      1\u001b[0m \u001b[38;5;66;03m# Plot probability distribution and confidence intervals\u001b[39;00m\n\u001b[1;32m----> 2\u001b[0m \u001b[43mMC_30year_5yrs\u001b[49m\u001b[38;5;241m.\u001b[39mplot_distribution()\n",
      "\u001b[1;31mNameError\u001b[0m: name 'MC_30year_5yrs' is not defined"
     ]
    }
   ],
   "source": [
    "# Plot probability distribution and confidence intervals\n",
    "MC_30year_5yrs.plot_distribution()"
   ]
  },
  {
   "cell_type": "code",
   "execution_count": 69,
   "metadata": {},
   "outputs": [
    {
     "ename": "NameError",
     "evalue": "name 'MC_30year_dist_5yrs' is not defined",
     "output_type": "error",
     "traceback": [
      "\u001b[1;31m---------------------------------------------------------------------------\u001b[0m",
      "\u001b[1;31mNameError\u001b[0m                                 Traceback (most recent call last)",
      "Input \u001b[1;32mIn [69]\u001b[0m, in \u001b[0;36m<cell line: 2>\u001b[1;34m()\u001b[0m\n\u001b[0;32m      1\u001b[0m \u001b[38;5;66;03m# Fetch summary statistics from the Monte Carlo simulation results\u001b[39;00m\n\u001b[1;32m----> 2\u001b[0m MC_30year_summary_5yrs \u001b[38;5;241m=\u001b[39m \u001b[43mMC_30year_dist_5yrs\u001b[49m\u001b[38;5;241m.\u001b[39msummarize_cumulative_return()\n\u001b[0;32m      3\u001b[0m \u001b[38;5;66;03m# Print summary statistics\u001b[39;00m\n\u001b[0;32m      4\u001b[0m \u001b[38;5;28mprint\u001b[39m(MC_30year_summary_5yrs)\n",
      "\u001b[1;31mNameError\u001b[0m: name 'MC_30year_dist_5yrs' is not defined"
     ]
    }
   ],
   "source": [
    "# Fetch summary statistics from the Monte Carlo simulation results\n",
    "MC_30year_summary_5yrs = MC_30year_dist_5yrs.summarize_cumulative_return()\n",
    "# Print summary statistics\n",
    "print(MC_30year_summary_5yrs)"
   ]
  },
  {
   "cell_type": "code",
   "execution_count": 70,
   "metadata": {},
   "outputs": [
    {
     "ename": "NameError",
     "evalue": "name 'MC_30year_summary_5yrs' is not defined",
     "output_type": "error",
     "traceback": [
      "\u001b[1;31m---------------------------------------------------------------------------\u001b[0m",
      "\u001b[1;31mNameError\u001b[0m                                 Traceback (most recent call last)",
      "Input \u001b[1;32mIn [70]\u001b[0m, in \u001b[0;36m<cell line: 5>\u001b[1;34m()\u001b[0m\n\u001b[0;32m      2\u001b[0m initial_investment_60K \u001b[38;5;241m=\u001b[39m \u001b[38;5;241m60000\u001b[39m\n\u001b[0;32m      4\u001b[0m \u001b[38;5;66;03m# Use the lower and upper `95%` confidence intervals to calculate the range of the possible outcomes of our $60,000\u001b[39;00m\n\u001b[1;32m----> 5\u001b[0m ci_lower_5yrs \u001b[38;5;241m=\u001b[39m \u001b[38;5;28mround\u001b[39m(\u001b[43mMC_30year_summary_5yrs\u001b[49m[\u001b[38;5;241m8\u001b[39m]\u001b[38;5;241m*\u001b[39minitial_investment_60K,\u001b[38;5;241m2\u001b[39m)\n\u001b[0;32m      6\u001b[0m ci_upper_5yrs \u001b[38;5;241m=\u001b[39m \u001b[38;5;28mround\u001b[39m(MC_30year_summary_5yrs[\u001b[38;5;241m9\u001b[39m]\u001b[38;5;241m*\u001b[39minitial_investment_60K,\u001b[38;5;241m2\u001b[39m)\n\u001b[0;32m      7\u001b[0m \u001b[38;5;66;03m# Print results\u001b[39;00m\n",
      "\u001b[1;31mNameError\u001b[0m: name 'MC_30year_summary_5yrs' is not defined"
     ]
    }
   ],
   "source": [
    "# Set initial investment\n",
    "initial_investment_60K = 60000\n",
    "\n",
    "# Use the lower and upper `95%` confidence intervals to calculate the range of the possible outcomes of our $60,000\n",
    "ci_lower_5yrs = round(MC_30year_summary_5yrs[8]*initial_investment_60K,2)\n",
    "ci_upper_5yrs = round(MC_30year_summary_5yrs[9]*initial_investment_60K,2)\n",
    "# Print results\n",
    "print(f\"There is a 95% chance that an initial investment of ${initial_investment} in the portfolio\"\n",
    "      f\" over the next 5 years will end within in the range of\"\n",
    "      f\" ${ci_lower_five} and ${ci_upper_five}\")"
   ]
  },
  {
   "cell_type": "markdown",
   "metadata": {},
   "source": [
    "### Ten Years Retirement Option"
   ]
  },
  {
   "cell_type": "code",
   "execution_count": 71,
   "metadata": {},
   "outputs": [
    {
     "ename": "IndexError",
     "evalue": "Too many levels: Index has only 1 level, not 2",
     "output_type": "error",
     "traceback": [
      "\u001b[1;31m---------------------------------------------------------------------------\u001b[0m",
      "\u001b[1;31mIndexError\u001b[0m                                Traceback (most recent call last)",
      "Input \u001b[1;32mIn [71]\u001b[0m, in \u001b[0;36m<cell line: 2>\u001b[1;34m()\u001b[0m\n\u001b[0;32m      1\u001b[0m \u001b[38;5;66;03m# Configuring a Monte Carlo simulation to forecast 10 years cumulative returns\u001b[39;00m\n\u001b[1;32m----> 2\u001b[0m MC_30year_dist_10yrs \u001b[38;5;241m=\u001b[39m \u001b[43mMCSimulation\u001b[49m\u001b[43m(\u001b[49m\u001b[43mportfolio_data\u001b[49m\u001b[43m \u001b[49m\u001b[38;5;241;43m=\u001b[39;49m\u001b[43m \u001b[49m\u001b[43mdf_stock_data\u001b[49m\u001b[43m,\u001b[49m\u001b[43mweights\u001b[49m\u001b[43m \u001b[49m\u001b[38;5;241;43m=\u001b[39;49m\u001b[43m \u001b[49m\u001b[43m[\u001b[49m\u001b[38;5;241;43m0.4\u001b[39;49m\u001b[43m,\u001b[49m\u001b[38;5;241;43m0.6\u001b[39;49m\u001b[43m]\u001b[49m\u001b[43m,\u001b[49m\u001b[43mnum_simulation\u001b[49m\u001b[43m \u001b[49m\u001b[38;5;241;43m=\u001b[39;49m\u001b[43m \u001b[49m\u001b[38;5;241;43m500\u001b[39;49m\u001b[43m,\u001b[49m\u001b[43mnum_trading_days\u001b[49m\u001b[43m \u001b[49m\u001b[38;5;241;43m=\u001b[39;49m\u001b[43m \u001b[49m\u001b[38;5;241;43m252\u001b[39;49m\u001b[38;5;241;43m*\u001b[39;49m\u001b[38;5;241;43m10\u001b[39;49m\u001b[43m)\u001b[49m\n",
      "File \u001b[1;32m~\\Documents\\University of Toronto\\BootCamp\\Week 5\\Assignments\\Instructions\\Starter_Code\\MCForecastTools.py:61\u001b[0m, in \u001b[0;36mMCSimulation.__init__\u001b[1;34m(self, portfolio_data, weights, num_simulation, num_trading_days)\u001b[0m\n\u001b[0;32m     58\u001b[0m         \u001b[38;5;28;01mraise\u001b[39;00m \u001b[38;5;167;01mAttributeError\u001b[39;00m(\u001b[38;5;124m\"\u001b[39m\u001b[38;5;124mSum of portfolio weights must equal one.\u001b[39m\u001b[38;5;124m\"\u001b[39m)\n\u001b[0;32m     60\u001b[0m \u001b[38;5;66;03m# Calculate daily return if not within dataframe\u001b[39;00m\n\u001b[1;32m---> 61\u001b[0m \u001b[38;5;28;01mif\u001b[39;00m \u001b[38;5;129;01mnot\u001b[39;00m \u001b[38;5;124m\"\u001b[39m\u001b[38;5;124mdaily_return\u001b[39m\u001b[38;5;124m\"\u001b[39m \u001b[38;5;129;01min\u001b[39;00m \u001b[43mportfolio_data\u001b[49m\u001b[38;5;241;43m.\u001b[39;49m\u001b[43mcolumns\u001b[49m\u001b[38;5;241;43m.\u001b[39;49m\u001b[43mget_level_values\u001b[49m\u001b[43m(\u001b[49m\u001b[38;5;241;43m1\u001b[39;49m\u001b[43m)\u001b[49m\u001b[38;5;241m.\u001b[39munique():\n\u001b[0;32m     62\u001b[0m     close_df \u001b[38;5;241m=\u001b[39m portfolio_data\u001b[38;5;241m.\u001b[39mxs(\u001b[38;5;124m'\u001b[39m\u001b[38;5;124mclose\u001b[39m\u001b[38;5;124m'\u001b[39m,level\u001b[38;5;241m=\u001b[39m\u001b[38;5;241m1\u001b[39m,axis\u001b[38;5;241m=\u001b[39m\u001b[38;5;241m1\u001b[39m)\u001b[38;5;241m.\u001b[39mpct_change()\n\u001b[0;32m     63\u001b[0m     tickers \u001b[38;5;241m=\u001b[39m portfolio_data\u001b[38;5;241m.\u001b[39mcolumns\u001b[38;5;241m.\u001b[39mget_level_values(\u001b[38;5;241m0\u001b[39m)\u001b[38;5;241m.\u001b[39munique()\n",
      "File \u001b[1;32m~\\anaconda3\\lib\\site-packages\\pandas\\core\\indexes\\base.py:2008\u001b[0m, in \u001b[0;36mIndex._get_level_values\u001b[1;34m(self, level)\u001b[0m\n\u001b[0;32m   1972\u001b[0m \u001b[38;5;28;01mdef\u001b[39;00m \u001b[38;5;21m_get_level_values\u001b[39m(\u001b[38;5;28mself\u001b[39m, level) \u001b[38;5;241m-\u001b[39m\u001b[38;5;241m>\u001b[39m Index:\n\u001b[0;32m   1973\u001b[0m     \u001b[38;5;124;03m\"\"\"\u001b[39;00m\n\u001b[0;32m   1974\u001b[0m \u001b[38;5;124;03m    Return an Index of values for requested level.\u001b[39;00m\n\u001b[0;32m   1975\u001b[0m \n\u001b[1;32m   (...)\u001b[0m\n\u001b[0;32m   2006\u001b[0m \u001b[38;5;124;03m    Index(['a', 'b', 'c'], dtype='object')\u001b[39;00m\n\u001b[0;32m   2007\u001b[0m \u001b[38;5;124;03m    \"\"\"\u001b[39;00m\n\u001b[1;32m-> 2008\u001b[0m     \u001b[38;5;28;43mself\u001b[39;49m\u001b[38;5;241;43m.\u001b[39;49m\u001b[43m_validate_index_level\u001b[49m\u001b[43m(\u001b[49m\u001b[43mlevel\u001b[49m\u001b[43m)\u001b[49m\n\u001b[0;32m   2009\u001b[0m     \u001b[38;5;28;01mreturn\u001b[39;00m \u001b[38;5;28mself\u001b[39m\n",
      "File \u001b[1;32m~\\anaconda3\\lib\\site-packages\\pandas\\core\\indexes\\base.py:1927\u001b[0m, in \u001b[0;36mIndex._validate_index_level\u001b[1;34m(self, level)\u001b[0m\n\u001b[0;32m   1922\u001b[0m         \u001b[38;5;28;01mraise\u001b[39;00m \u001b[38;5;167;01mIndexError\u001b[39;00m(\n\u001b[0;32m   1923\u001b[0m             \u001b[38;5;124m\"\u001b[39m\u001b[38;5;124mToo many levels: Index has only 1 level, \u001b[39m\u001b[38;5;124m\"\u001b[39m\n\u001b[0;32m   1924\u001b[0m             \u001b[38;5;124mf\u001b[39m\u001b[38;5;124m\"\u001b[39m\u001b[38;5;132;01m{\u001b[39;00mlevel\u001b[38;5;132;01m}\u001b[39;00m\u001b[38;5;124m is not a valid level number\u001b[39m\u001b[38;5;124m\"\u001b[39m\n\u001b[0;32m   1925\u001b[0m         )\n\u001b[0;32m   1926\u001b[0m     \u001b[38;5;28;01melif\u001b[39;00m level \u001b[38;5;241m>\u001b[39m \u001b[38;5;241m0\u001b[39m:\n\u001b[1;32m-> 1927\u001b[0m         \u001b[38;5;28;01mraise\u001b[39;00m \u001b[38;5;167;01mIndexError\u001b[39;00m(\n\u001b[0;32m   1928\u001b[0m             \u001b[38;5;124mf\u001b[39m\u001b[38;5;124m\"\u001b[39m\u001b[38;5;124mToo many levels: Index has only 1 level, not \u001b[39m\u001b[38;5;132;01m{\u001b[39;00mlevel \u001b[38;5;241m+\u001b[39m \u001b[38;5;241m1\u001b[39m\u001b[38;5;132;01m}\u001b[39;00m\u001b[38;5;124m\"\u001b[39m\n\u001b[0;32m   1929\u001b[0m         )\n\u001b[0;32m   1930\u001b[0m \u001b[38;5;28;01melif\u001b[39;00m level \u001b[38;5;241m!=\u001b[39m \u001b[38;5;28mself\u001b[39m\u001b[38;5;241m.\u001b[39mname:\n\u001b[0;32m   1931\u001b[0m     \u001b[38;5;28;01mraise\u001b[39;00m \u001b[38;5;167;01mKeyError\u001b[39;00m(\n\u001b[0;32m   1932\u001b[0m         \u001b[38;5;124mf\u001b[39m\u001b[38;5;124m\"\u001b[39m\u001b[38;5;124mRequested level (\u001b[39m\u001b[38;5;132;01m{\u001b[39;00mlevel\u001b[38;5;132;01m}\u001b[39;00m\u001b[38;5;124m) does not match index name (\u001b[39m\u001b[38;5;132;01m{\u001b[39;00m\u001b[38;5;28mself\u001b[39m\u001b[38;5;241m.\u001b[39mname\u001b[38;5;132;01m}\u001b[39;00m\u001b[38;5;124m)\u001b[39m\u001b[38;5;124m\"\u001b[39m\n\u001b[0;32m   1933\u001b[0m     )\n",
      "\u001b[1;31mIndexError\u001b[0m: Too many levels: Index has only 1 level, not 2"
     ]
    }
   ],
   "source": [
    "# Configuring a Monte Carlo simulation to forecast 10 years cumulative returns\n",
    "MC_30year_dist_10yrs = MCSimulation(portfolio_data = df_stock_data,weights = [0.4,0.6],num_simulation = 500,num_trading_days = 252*10)"
   ]
  },
  {
   "cell_type": "code",
   "execution_count": 72,
   "metadata": {},
   "outputs": [
    {
     "ename": "NameError",
     "evalue": "name 'MC_30year_10yrs' is not defined",
     "output_type": "error",
     "traceback": [
      "\u001b[1;31m---------------------------------------------------------------------------\u001b[0m",
      "\u001b[1;31mNameError\u001b[0m                                 Traceback (most recent call last)",
      "Input \u001b[1;32mIn [72]\u001b[0m, in \u001b[0;36m<cell line: 2>\u001b[1;34m()\u001b[0m\n\u001b[0;32m      1\u001b[0m \u001b[38;5;66;03m# Running a Monte Carlo simulation to forecast 10 years cumulative returns\u001b[39;00m\n\u001b[1;32m----> 2\u001b[0m \u001b[43mMC_30year_10yrs\u001b[49m\u001b[38;5;241m.\u001b[39mcalc_cumulative_return()\n",
      "\u001b[1;31mNameError\u001b[0m: name 'MC_30year_10yrs' is not defined"
     ]
    }
   ],
   "source": [
    "# Running a Monte Carlo simulation to forecast 10 years cumulative returns\n",
    "MC_30year_10yrs.calc_cumulative_return()"
   ]
  },
  {
   "cell_type": "code",
   "execution_count": 73,
   "metadata": {},
   "outputs": [
    {
     "ename": "NameError",
     "evalue": "name 'MC_30year_10yrs' is not defined",
     "output_type": "error",
     "traceback": [
      "\u001b[1;31m---------------------------------------------------------------------------\u001b[0m",
      "\u001b[1;31mNameError\u001b[0m                                 Traceback (most recent call last)",
      "Input \u001b[1;32mIn [73]\u001b[0m, in \u001b[0;36m<cell line: 2>\u001b[1;34m()\u001b[0m\n\u001b[0;32m      1\u001b[0m \u001b[38;5;66;03m# Plot simulation outcomes\u001b[39;00m\n\u001b[1;32m----> 2\u001b[0m \u001b[43mMC_30year_10yrs\u001b[49m\u001b[38;5;241m.\u001b[39mplot_simulation()\n",
      "\u001b[1;31mNameError\u001b[0m: name 'MC_30year_10yrs' is not defined"
     ]
    }
   ],
   "source": [
    "# Plot simulation outcomes\n",
    "MC_30year_10yrs.plot_simulation()"
   ]
  },
  {
   "cell_type": "code",
   "execution_count": 74,
   "metadata": {},
   "outputs": [
    {
     "ename": "NameError",
     "evalue": "name 'MC_30year_10yrs' is not defined",
     "output_type": "error",
     "traceback": [
      "\u001b[1;31m---------------------------------------------------------------------------\u001b[0m",
      "\u001b[1;31mNameError\u001b[0m                                 Traceback (most recent call last)",
      "Input \u001b[1;32mIn [74]\u001b[0m, in \u001b[0;36m<cell line: 2>\u001b[1;34m()\u001b[0m\n\u001b[0;32m      1\u001b[0m \u001b[38;5;66;03m# Plot probability distribution and confidence intervals\u001b[39;00m\n\u001b[1;32m----> 2\u001b[0m \u001b[43mMC_30year_10yrs\u001b[49m\u001b[38;5;241m.\u001b[39mplot_distribution()\n",
      "\u001b[1;31mNameError\u001b[0m: name 'MC_30year_10yrs' is not defined"
     ]
    }
   ],
   "source": [
    "# Plot probability distribution and confidence intervals\n",
    "MC_30year_10yrs.plot_distribution()"
   ]
  },
  {
   "cell_type": "code",
   "execution_count": 75,
   "metadata": {},
   "outputs": [
    {
     "ename": "NameError",
     "evalue": "name 'MC_30year_10yrs' is not defined",
     "output_type": "error",
     "traceback": [
      "\u001b[1;31m---------------------------------------------------------------------------\u001b[0m",
      "\u001b[1;31mNameError\u001b[0m                                 Traceback (most recent call last)",
      "Input \u001b[1;32mIn [75]\u001b[0m, in \u001b[0;36m<cell line: 2>\u001b[1;34m()\u001b[0m\n\u001b[0;32m      1\u001b[0m \u001b[38;5;66;03m# Fetch summary statistics from the Monte Carlo simulation results\u001b[39;00m\n\u001b[1;32m----> 2\u001b[0m MC_30year_summary_10yrs \u001b[38;5;241m=\u001b[39m \u001b[43mMC_30year_10yrs\u001b[49m\u001b[38;5;241m.\u001b[39msummarize_cumulative_return()\n\u001b[0;32m      4\u001b[0m \u001b[38;5;66;03m# Print summary statistics\u001b[39;00m\n\u001b[0;32m      5\u001b[0m \u001b[38;5;28mprint\u001b[39m(MC_30year_summary_10yrs)\n",
      "\u001b[1;31mNameError\u001b[0m: name 'MC_30year_10yrs' is not defined"
     ]
    }
   ],
   "source": [
    "# Fetch summary statistics from the Monte Carlo simulation results\n",
    "MC_30year_summary_10yrs = MC_30year_10yrs.summarize_cumulative_return()\n",
    "\n",
    "# Print summary statistics\n",
    "print(MC_30year_summary_10yrs)"
   ]
  },
  {
   "cell_type": "code",
   "execution_count": 76,
   "metadata": {},
   "outputs": [
    {
     "ename": "NameError",
     "evalue": "name 'MC_30year_summary_10yrs' is not defined",
     "output_type": "error",
     "traceback": [
      "\u001b[1;31m---------------------------------------------------------------------------\u001b[0m",
      "\u001b[1;31mNameError\u001b[0m                                 Traceback (most recent call last)",
      "Input \u001b[1;32mIn [76]\u001b[0m, in \u001b[0;36m<cell line: 4>\u001b[1;34m()\u001b[0m\n\u001b[0;32m      2\u001b[0m initial_investment_60K \u001b[38;5;241m=\u001b[39m \u001b[38;5;241m60000\u001b[39m\n\u001b[0;32m      3\u001b[0m \u001b[38;5;66;03m# Use the lower and upper `95%` confidence intervals to calculate the range of the possible outcomes of our $60,000\u001b[39;00m\n\u001b[1;32m----> 4\u001b[0m ci_lower_10yrs \u001b[38;5;241m=\u001b[39m \u001b[38;5;28mround\u001b[39m(\u001b[43mMC_30year_summary_10yrs\u001b[49m[\u001b[38;5;241m8\u001b[39m]\u001b[38;5;241m*\u001b[39minitial_investment_60K,\u001b[38;5;241m2\u001b[39m)\n\u001b[0;32m      5\u001b[0m ci_upper_10yrs \u001b[38;5;241m=\u001b[39m \u001b[38;5;28mround\u001b[39m(MC_30year_summary_10yrs[\u001b[38;5;241m9\u001b[39m]\u001b[38;5;241m*\u001b[39minitial_investment_60K,\u001b[38;5;241m2\u001b[39m)\n\u001b[0;32m      7\u001b[0m \u001b[38;5;66;03m# Print results\u001b[39;00m\n",
      "\u001b[1;31mNameError\u001b[0m: name 'MC_30year_summary_10yrs' is not defined"
     ]
    }
   ],
   "source": [
    "# Set initial investment\n",
    "initial_investment_60K = 60000\n",
    "# Use the lower and upper `95%` confidence intervals to calculate the range of the possible outcomes of our $60,000\n",
    "ci_lower_10yrs = round(MC_30year_summary_10yrs[8]*initial_investment_60K,2)\n",
    "ci_upper_10yrs = round(MC_30year_summary_10yrs[9]*initial_investment_60K,2)\n",
    "\n",
    "# Print results\n",
    "print(f\"There is a 95% chance that an initial investment of ${initial_investment} in the portfolio\"\n",
    "      f\" over the next 10 years will end within in the range of\"\n",
    "      f\" ${ci_lower_ten} and ${ci_upper_ten}\")"
   ]
  },
  {
   "cell_type": "code",
   "execution_count": null,
   "metadata": {},
   "outputs": [],
   "source": []
  }
 ],
 "metadata": {
  "kernelspec": {
   "display_name": "Python 3 (ipykernel)",
   "language": "python",
   "name": "python3"
  },
  "language_info": {
   "codemirror_mode": {
    "name": "ipython",
    "version": 3
   },
   "file_extension": ".py",
   "mimetype": "text/x-python",
   "name": "python",
   "nbconvert_exporter": "python",
   "pygments_lexer": "ipython3",
   "version": "3.9.12"
  },
  "nteract": {
   "version": "0.28.0"
  }
 },
 "nbformat": 4,
 "nbformat_minor": 4
}
